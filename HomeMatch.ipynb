{
  "cells": [
    {
      "cell_type": "markdown",
      "metadata": {
        "id": "view-in-github",
        "colab_type": "text"
      },
      "source": [
        "<a href=\"https://colab.research.google.com/github/akash166d/RAG_LLM_Template/blob/main/HomeMatch.ipynb\" target=\"_parent\"><img src=\"https://colab.research.google.com/assets/colab-badge.svg\" alt=\"Open In Colab\"/></a>"
      ]
    },
    {
      "cell_type": "markdown",
      "id": "a108af04",
      "metadata": {
        "id": "a108af04"
      },
      "source": [
        "## Env"
      ]
    },
    {
      "cell_type": "code",
      "execution_count": null,
      "id": "cc9fc41b",
      "metadata": {
        "id": "cc9fc41b",
        "outputId": "04da389d-36a6-492d-8a66-a0c5a375ac9e"
      },
      "outputs": [
        {
          "name": "stdout",
          "output_type": "stream",
          "text": [
            "Defaulting to user installation because normal site-packages is not writeable\n",
            "\u001b[33mWARNING: Ignoring invalid distribution -angsmith (/home/student/.local/lib/python3.10/site-packages)\u001b[0m\u001b[33m\n",
            "\u001b[0m\u001b[33mWARNING: Ignoring invalid distribution -angsmith (/home/student/.local/lib/python3.10/site-packages)\u001b[0m\u001b[33m\n",
            "\u001b[0mRequirement already satisfied: pandas in /home/student/.local/lib/python3.10/site-packages (2.2.2)\n",
            "Requirement already satisfied: python-dateutil>=2.8.2 in /opt/conda/lib/python3.10/site-packages (from pandas) (2.9.0.post0)\n",
            "Requirement already satisfied: pytz>=2020.1 in /opt/conda/lib/python3.10/site-packages (from pandas) (2022.7)\n",
            "Requirement already satisfied: tzdata>=2022.7 in /home/student/.local/lib/python3.10/site-packages (from pandas) (2024.1)\n",
            "Requirement already satisfied: numpy>=1.22.4 in /opt/conda/lib/python3.10/site-packages (from pandas) (1.24.3)\n",
            "Requirement already satisfied: six>=1.5 in /opt/conda/lib/python3.10/site-packages (from python-dateutil>=2.8.2->pandas) (1.16.0)\n",
            "\u001b[33mWARNING: Ignoring invalid distribution -angsmith (/home/student/.local/lib/python3.10/site-packages)\u001b[0m\u001b[33m\n",
            "\u001b[0m\u001b[33mWARNING: Ignoring invalid distribution -angsmith (/home/student/.local/lib/python3.10/site-packages)\u001b[0m\u001b[33m\n",
            "\u001b[0m\u001b[33mWARNING: Ignoring invalid distribution -angsmith (/home/student/.local/lib/python3.10/site-packages)\u001b[0m\u001b[33m\n",
            "\u001b[0m\u001b[33mWARNING: Ignoring invalid distribution -angsmith (/home/student/.local/lib/python3.10/site-packages)\u001b[0m\u001b[33m\n",
            "\u001b[0mDefaulting to user installation because normal site-packages is not writeable\n",
            "\u001b[33mWARNING: Ignoring invalid distribution -angsmith (/home/student/.local/lib/python3.10/site-packages)\u001b[0m\u001b[33m\n",
            "\u001b[0m\u001b[33mWARNING: Ignoring invalid distribution -angsmith (/home/student/.local/lib/python3.10/site-packages)\u001b[0m\u001b[33m\n",
            "\u001b[0mCollecting langchain==0.0.316\n",
            "  Using cached langchain-0.0.316-py3-none-any.whl (1.9 MB)\n",
            "Requirement already satisfied: tenacity<9.0.0,>=8.1.0 in /opt/conda/lib/python3.10/site-packages (from langchain==0.0.316) (8.3.0)\n",
            "Requirement already satisfied: PyYAML>=5.3 in /opt/conda/lib/python3.10/site-packages (from langchain==0.0.316) (6.0)\n",
            "Requirement already satisfied: langsmith<0.1.0,>=0.0.43 in /home/student/.local/lib/python3.10/site-packages (from langchain==0.0.316) (0.0.92)\n",
            "Requirement already satisfied: async-timeout<5.0.0,>=4.0.0 in /opt/conda/lib/python3.10/site-packages (from langchain==0.0.316) (4.0.3)\n",
            "Requirement already satisfied: jsonpatch<2.0,>=1.33 in /opt/conda/lib/python3.10/site-packages (from langchain==0.0.316) (1.33)\n",
            "Requirement already satisfied: anyio<4.0 in /opt/conda/lib/python3.10/site-packages (from langchain==0.0.316) (3.7.1)\n",
            "Requirement already satisfied: pydantic<3,>=1 in /opt/conda/lib/python3.10/site-packages (from langchain==0.0.316) (1.10.12)\n",
            "Requirement already satisfied: requests<3,>=2 in /opt/conda/lib/python3.10/site-packages (from langchain==0.0.316) (2.29.0)\n",
            "Requirement already satisfied: SQLAlchemy<3,>=1.4 in /opt/conda/lib/python3.10/site-packages (from langchain==0.0.316) (2.0.30)\n",
            "Requirement already satisfied: dataclasses-json<0.7,>=0.5.7 in /opt/conda/lib/python3.10/site-packages (from langchain==0.0.316) (0.6.6)\n",
            "Requirement already satisfied: numpy<2,>=1 in /opt/conda/lib/python3.10/site-packages (from langchain==0.0.316) (1.24.3)\n",
            "Requirement already satisfied: aiohttp<4.0.0,>=3.8.3 in /opt/conda/lib/python3.10/site-packages (from langchain==0.0.316) (3.9.5)\n",
            "Requirement already satisfied: frozenlist>=1.1.1 in /opt/conda/lib/python3.10/site-packages (from aiohttp<4.0.0,>=3.8.3->langchain==0.0.316) (1.4.1)\n",
            "Requirement already satisfied: aiosignal>=1.1.2 in /opt/conda/lib/python3.10/site-packages (from aiohttp<4.0.0,>=3.8.3->langchain==0.0.316) (1.3.1)\n",
            "Requirement already satisfied: attrs>=17.3.0 in /opt/conda/lib/python3.10/site-packages (from aiohttp<4.0.0,>=3.8.3->langchain==0.0.316) (23.1.0)\n",
            "Requirement already satisfied: multidict<7.0,>=4.5 in /opt/conda/lib/python3.10/site-packages (from aiohttp<4.0.0,>=3.8.3->langchain==0.0.316) (6.0.5)\n",
            "Requirement already satisfied: yarl<2.0,>=1.0 in /opt/conda/lib/python3.10/site-packages (from aiohttp<4.0.0,>=3.8.3->langchain==0.0.316) (1.9.4)\n",
            "Requirement already satisfied: idna>=2.8 in /opt/conda/lib/python3.10/site-packages (from anyio<4.0->langchain==0.0.316) (3.4)\n",
            "Requirement already satisfied: exceptiongroup in /opt/conda/lib/python3.10/site-packages (from anyio<4.0->langchain==0.0.316) (1.1.1)\n",
            "Requirement already satisfied: sniffio>=1.1 in /opt/conda/lib/python3.10/site-packages (from anyio<4.0->langchain==0.0.316) (1.3.1)\n",
            "Requirement already satisfied: typing-inspect<1,>=0.4.0 in /opt/conda/lib/python3.10/site-packages (from dataclasses-json<0.7,>=0.5.7->langchain==0.0.316) (0.9.0)\n",
            "Requirement already satisfied: marshmallow<4.0.0,>=3.18.0 in /opt/conda/lib/python3.10/site-packages (from dataclasses-json<0.7,>=0.5.7->langchain==0.0.316) (3.21.2)\n",
            "Requirement already satisfied: jsonpointer>=1.9 in /opt/conda/lib/python3.10/site-packages (from jsonpatch<2.0,>=1.33->langchain==0.0.316) (2.1)\n",
            "Requirement already satisfied: typing-extensions>=4.2.0 in /opt/conda/lib/python3.10/site-packages (from pydantic<3,>=1->langchain==0.0.316) (4.11.0)\n",
            "Requirement already satisfied: certifi>=2017.4.17 in /opt/conda/lib/python3.10/site-packages (from requests<3,>=2->langchain==0.0.316) (2023.5.7)\n",
            "Requirement already satisfied: charset-normalizer<4,>=2 in /opt/conda/lib/python3.10/site-packages (from requests<3,>=2->langchain==0.0.316) (2.0.4)\n",
            "Requirement already satisfied: urllib3<1.27,>=1.21.1 in /opt/conda/lib/python3.10/site-packages (from requests<3,>=2->langchain==0.0.316) (1.26.15)\n",
            "Requirement already satisfied: greenlet!=0.4.17 in /opt/conda/lib/python3.10/site-packages (from SQLAlchemy<3,>=1.4->langchain==0.0.316) (3.0.3)\n",
            "Requirement already satisfied: packaging>=17.0 in /home/student/.local/lib/python3.10/site-packages (from marshmallow<4.0.0,>=3.18.0->dataclasses-json<0.7,>=0.5.7->langchain==0.0.316) (24.1)\n",
            "Requirement already satisfied: mypy-extensions>=0.3.0 in /opt/conda/lib/python3.10/site-packages (from typing-inspect<1,>=0.4.0->dataclasses-json<0.7,>=0.5.7->langchain==0.0.316) (1.0.0)\n",
            "\u001b[33mWARNING: Ignoring invalid distribution -angsmith (/home/student/.local/lib/python3.10/site-packages)\u001b[0m\u001b[33m\n",
            "\u001b[0mInstalling collected packages: langchain\n",
            "  Attempting uninstall: langchain\n",
            "\u001b[33m    WARNING: Ignoring invalid distribution -angsmith (/home/student/.local/lib/python3.10/site-packages)\u001b[0m\u001b[33m\n",
            "\u001b[0m    Found existing installation: langchain 0.2.12\n",
            "    Uninstalling langchain-0.2.12:\n",
            "      Successfully uninstalled langchain-0.2.12\n",
            "\u001b[33m  WARNING: The scripts langchain and langchain-server are installed in '/home/student/.local/bin' which is not on PATH.\n",
            "  Consider adding this directory to PATH or, if you prefer to suppress this warning, use --no-warn-script-location.\u001b[0m\u001b[33m\n",
            "\u001b[0m\u001b[33mWARNING: Ignoring invalid distribution -angsmith (/home/student/.local/lib/python3.10/site-packages)\u001b[0m\u001b[33m\n",
            "\u001b[0mSuccessfully installed langchain-0.0.316\n",
            "\u001b[33mWARNING: Ignoring invalid distribution -angsmith (/home/student/.local/lib/python3.10/site-packages)\u001b[0m\u001b[33m\n",
            "\u001b[0m\u001b[33mWARNING: Ignoring invalid distribution -angsmith (/home/student/.local/lib/python3.10/site-packages)\u001b[0m\u001b[33m\n",
            "\u001b[0m\u001b[33mWARNING: Ignoring invalid distribution -angsmith (/home/student/.local/lib/python3.10/site-packages)\u001b[0m\u001b[33m\n",
            "\u001b[0mDefaulting to user installation because normal site-packages is not writeable\n",
            "\u001b[33mWARNING: Ignoring invalid distribution -angsmith (/home/student/.local/lib/python3.10/site-packages)\u001b[0m\u001b[33m\n",
            "\u001b[0m\u001b[33mWARNING: Ignoring invalid distribution -angsmith (/home/student/.local/lib/python3.10/site-packages)\u001b[0m\u001b[33m\n",
            "\u001b[0mCollecting openai==0.28.1\n",
            "  Using cached openai-0.28.1-py3-none-any.whl (76 kB)\n",
            "Requirement already satisfied: aiohttp in /opt/conda/lib/python3.10/site-packages (from openai==0.28.1) (3.9.5)\n",
            "Requirement already satisfied: tqdm in /opt/conda/lib/python3.10/site-packages (from openai==0.28.1) (4.65.0)\n",
            "Requirement already satisfied: requests>=2.20 in /opt/conda/lib/python3.10/site-packages (from openai==0.28.1) (2.29.0)\n",
            "Requirement already satisfied: charset-normalizer<4,>=2 in /opt/conda/lib/python3.10/site-packages (from requests>=2.20->openai==0.28.1) (2.0.4)\n",
            "Requirement already satisfied: urllib3<1.27,>=1.21.1 in /opt/conda/lib/python3.10/site-packages (from requests>=2.20->openai==0.28.1) (1.26.15)\n",
            "Requirement already satisfied: idna<4,>=2.5 in /opt/conda/lib/python3.10/site-packages (from requests>=2.20->openai==0.28.1) (3.4)\n",
            "Requirement already satisfied: certifi>=2017.4.17 in /opt/conda/lib/python3.10/site-packages (from requests>=2.20->openai==0.28.1) (2023.5.7)\n",
            "Requirement already satisfied: yarl<2.0,>=1.0 in /opt/conda/lib/python3.10/site-packages (from aiohttp->openai==0.28.1) (1.9.4)\n",
            "Requirement already satisfied: frozenlist>=1.1.1 in /opt/conda/lib/python3.10/site-packages (from aiohttp->openai==0.28.1) (1.4.1)\n",
            "Requirement already satisfied: aiosignal>=1.1.2 in /opt/conda/lib/python3.10/site-packages (from aiohttp->openai==0.28.1) (1.3.1)\n",
            "Requirement already satisfied: multidict<7.0,>=4.5 in /opt/conda/lib/python3.10/site-packages (from aiohttp->openai==0.28.1) (6.0.5)\n",
            "Requirement already satisfied: async-timeout<5.0,>=4.0 in /opt/conda/lib/python3.10/site-packages (from aiohttp->openai==0.28.1) (4.0.3)\n",
            "Requirement already satisfied: attrs>=17.3.0 in /opt/conda/lib/python3.10/site-packages (from aiohttp->openai==0.28.1) (23.1.0)\n"
          ]
        },
        {
          "name": "stdout",
          "output_type": "stream",
          "text": [
            "\u001b[33mWARNING: Ignoring invalid distribution -angsmith (/home/student/.local/lib/python3.10/site-packages)\u001b[0m\u001b[33m\n",
            "\u001b[0mInstalling collected packages: openai\n",
            "  Attempting uninstall: openai\n",
            "\u001b[33m    WARNING: Ignoring invalid distribution -angsmith (/home/student/.local/lib/python3.10/site-packages)\u001b[0m\u001b[33m\n",
            "\u001b[0m    Found existing installation: openai 1.39.0\n",
            "    Uninstalling openai-1.39.0:\n",
            "      Successfully uninstalled openai-1.39.0\n",
            "\u001b[33m  WARNING: The script openai is installed in '/home/student/.local/bin' which is not on PATH.\n",
            "  Consider adding this directory to PATH or, if you prefer to suppress this warning, use --no-warn-script-location.\u001b[0m\u001b[33m\n",
            "\u001b[0m\u001b[33mWARNING: Ignoring invalid distribution -angsmith (/home/student/.local/lib/python3.10/site-packages)\u001b[0m\u001b[33m\n",
            "\u001b[0m\u001b[31mERROR: pip's dependency resolver does not currently take into account all the packages that are installed. This behaviour is the source of the following dependency conflicts.\n",
            "langchain-openai 0.1.20 requires openai<2.0.0,>=1.32.0, but you have openai 0.28.1 which is incompatible.\u001b[0m\u001b[31m\n",
            "\u001b[0mSuccessfully installed openai-0.28.1\n",
            "\u001b[33mWARNING: Ignoring invalid distribution -angsmith (/home/student/.local/lib/python3.10/site-packages)\u001b[0m\u001b[33m\n",
            "\u001b[0m\u001b[33mWARNING: Ignoring invalid distribution -angsmith (/home/student/.local/lib/python3.10/site-packages)\u001b[0m\u001b[33m\n",
            "\u001b[0m\u001b[33mWARNING: Ignoring invalid distribution -angsmith (/home/student/.local/lib/python3.10/site-packages)\u001b[0m\u001b[33m\n",
            "\u001b[0mDefaulting to user installation because normal site-packages is not writeable\n",
            "\u001b[33mWARNING: Ignoring invalid distribution -angsmith (/home/student/.local/lib/python3.10/site-packages)\u001b[0m\u001b[33m\n",
            "\u001b[0m\u001b[33mWARNING: Ignoring invalid distribution -angsmith (/home/student/.local/lib/python3.10/site-packages)\u001b[0m\u001b[33m\n",
            "\u001b[0mRequirement already satisfied: chromadb in /opt/conda/lib/python3.10/site-packages (0.4.12)\n",
            "Requirement already satisfied: pulsar-client>=3.1.0 in /opt/conda/lib/python3.10/site-packages (from chromadb) (3.5.0)\n",
            "Requirement already satisfied: fastapi<0.100.0,>=0.95.2 in /opt/conda/lib/python3.10/site-packages (from chromadb) (0.99.1)\n",
            "Requirement already satisfied: posthog>=2.4.0 in /opt/conda/lib/python3.10/site-packages (from chromadb) (3.5.0)\n",
            "Requirement already satisfied: numpy>=1.22.5 in /opt/conda/lib/python3.10/site-packages (from chromadb) (1.24.3)\n",
            "Requirement already satisfied: onnxruntime>=1.14.1 in /opt/conda/lib/python3.10/site-packages (from chromadb) (1.18.0)\n",
            "Requirement already satisfied: uvicorn[standard]>=0.18.3 in /opt/conda/lib/python3.10/site-packages (from chromadb) (0.29.0)\n",
            "Requirement already satisfied: overrides>=7.3.1 in /opt/conda/lib/python3.10/site-packages (from chromadb) (7.7.0)\n",
            "Requirement already satisfied: pypika>=0.48.9 in /opt/conda/lib/python3.10/site-packages (from chromadb) (0.48.9)\n",
            "Requirement already satisfied: tokenizers>=0.13.2 in /opt/conda/lib/python3.10/site-packages (from chromadb) (0.13.3)\n",
            "Requirement already satisfied: importlib-resources in /opt/conda/lib/python3.10/site-packages (from chromadb) (6.4.0)\n",
            "Requirement already satisfied: requests>=2.28 in /opt/conda/lib/python3.10/site-packages (from chromadb) (2.29.0)\n",
            "Requirement already satisfied: typer>=0.9.0 in /opt/conda/lib/python3.10/site-packages (from chromadb) (0.12.3)\n",
            "Requirement already satisfied: bcrypt>=4.0.1 in /opt/conda/lib/python3.10/site-packages (from chromadb) (4.1.3)\n",
            "Requirement already satisfied: tqdm>=4.65.0 in /opt/conda/lib/python3.10/site-packages (from chromadb) (4.65.0)\n",
            "Requirement already satisfied: chroma-hnswlib==0.7.3 in /opt/conda/lib/python3.10/site-packages (from chromadb) (0.7.3)\n",
            "Requirement already satisfied: pydantic<2.0,>=1.9 in /opt/conda/lib/python3.10/site-packages (from chromadb) (1.10.12)\n",
            "Requirement already satisfied: typing-extensions>=4.5.0 in /opt/conda/lib/python3.10/site-packages (from chromadb) (4.11.0)\n",
            "Requirement already satisfied: starlette<0.28.0,>=0.27.0 in /opt/conda/lib/python3.10/site-packages (from fastapi<0.100.0,>=0.95.2->chromadb) (0.27.0)\n",
            "Requirement already satisfied: flatbuffers in /opt/conda/lib/python3.10/site-packages (from onnxruntime>=1.14.1->chromadb) (24.3.25)\n",
            "Requirement already satisfied: coloredlogs in /opt/conda/lib/python3.10/site-packages (from onnxruntime>=1.14.1->chromadb) (15.0.1)\n",
            "Requirement already satisfied: protobuf in /opt/conda/lib/python3.10/site-packages (from onnxruntime>=1.14.1->chromadb) (5.26.1)\n",
            "Requirement already satisfied: packaging in /home/student/.local/lib/python3.10/site-packages (from onnxruntime>=1.14.1->chromadb) (24.1)\n",
            "Requirement already satisfied: sympy in /opt/conda/lib/python3.10/site-packages (from onnxruntime>=1.14.1->chromadb) (1.12)\n",
            "Requirement already satisfied: python-dateutil>2.1 in /opt/conda/lib/python3.10/site-packages (from posthog>=2.4.0->chromadb) (2.9.0.post0)\n",
            "Requirement already satisfied: backoff>=1.10.0 in /opt/conda/lib/python3.10/site-packages (from posthog>=2.4.0->chromadb) (2.2.1)\n",
            "Requirement already satisfied: monotonic>=1.5 in /opt/conda/lib/python3.10/site-packages (from posthog>=2.4.0->chromadb) (1.6)\n",
            "Requirement already satisfied: six>=1.5 in /opt/conda/lib/python3.10/site-packages (from posthog>=2.4.0->chromadb) (1.16.0)\n",
            "Requirement already satisfied: certifi in /opt/conda/lib/python3.10/site-packages (from pulsar-client>=3.1.0->chromadb) (2023.5.7)\n",
            "Requirement already satisfied: urllib3<1.27,>=1.21.1 in /opt/conda/lib/python3.10/site-packages (from requests>=2.28->chromadb) (1.26.15)\n",
            "Requirement already satisfied: idna<4,>=2.5 in /opt/conda/lib/python3.10/site-packages (from requests>=2.28->chromadb) (3.4)\n",
            "Requirement already satisfied: charset-normalizer<4,>=2 in /opt/conda/lib/python3.10/site-packages (from requests>=2.28->chromadb) (2.0.4)\n",
            "Requirement already satisfied: click>=8.0.0 in /opt/conda/lib/python3.10/site-packages (from typer>=0.9.0->chromadb) (8.1.7)\n",
            "Requirement already satisfied: rich>=10.11.0 in /opt/conda/lib/python3.10/site-packages (from typer>=0.9.0->chromadb) (13.7.1)\n",
            "Requirement already satisfied: shellingham>=1.3.0 in /opt/conda/lib/python3.10/site-packages (from typer>=0.9.0->chromadb) (1.5.4)\n",
            "Requirement already satisfied: h11>=0.8 in /opt/conda/lib/python3.10/site-packages (from uvicorn[standard]>=0.18.3->chromadb) (0.14.0)\n",
            "Requirement already satisfied: httptools>=0.5.0 in /opt/conda/lib/python3.10/site-packages (from uvicorn[standard]>=0.18.3->chromadb) (0.6.1)\n",
            "Requirement already satisfied: pyyaml>=5.1 in /opt/conda/lib/python3.10/site-packages (from uvicorn[standard]>=0.18.3->chromadb) (6.0)\n",
            "Requirement already satisfied: watchfiles>=0.13 in /opt/conda/lib/python3.10/site-packages (from uvicorn[standard]>=0.18.3->chromadb) (0.21.0)\n",
            "Requirement already satisfied: websockets>=10.4 in /opt/conda/lib/python3.10/site-packages (from uvicorn[standard]>=0.18.3->chromadb) (12.0)\n",
            "Requirement already satisfied: uvloop!=0.15.0,!=0.15.1,>=0.14.0 in /opt/conda/lib/python3.10/site-packages (from uvicorn[standard]>=0.18.3->chromadb) (0.19.0)\n",
            "Requirement already satisfied: python-dotenv>=0.13 in /opt/conda/lib/python3.10/site-packages (from uvicorn[standard]>=0.18.3->chromadb) (1.0.1)\n",
            "Requirement already satisfied: pygments<3.0.0,>=2.13.0 in /opt/conda/lib/python3.10/site-packages (from rich>=10.11.0->typer>=0.9.0->chromadb) (2.15.1)\n",
            "Requirement already satisfied: markdown-it-py>=2.2.0 in /opt/conda/lib/python3.10/site-packages (from rich>=10.11.0->typer>=0.9.0->chromadb) (3.0.0)\n",
            "Requirement already satisfied: anyio<5,>=3.4.0 in /opt/conda/lib/python3.10/site-packages (from starlette<0.28.0,>=0.27.0->fastapi<0.100.0,>=0.95.2->chromadb) (3.7.1)\n",
            "Requirement already satisfied: humanfriendly>=9.1 in /opt/conda/lib/python3.10/site-packages (from coloredlogs->onnxruntime>=1.14.1->chromadb) (10.0)\n",
            "Requirement already satisfied: mpmath>=0.19 in /opt/conda/lib/python3.10/site-packages (from sympy->onnxruntime>=1.14.1->chromadb) (1.3.0)\n",
            "Requirement already satisfied: exceptiongroup in /opt/conda/lib/python3.10/site-packages (from anyio<5,>=3.4.0->starlette<0.28.0,>=0.27.0->fastapi<0.100.0,>=0.95.2->chromadb) (1.1.1)\n",
            "Requirement already satisfied: sniffio>=1.1 in /opt/conda/lib/python3.10/site-packages (from anyio<5,>=3.4.0->starlette<0.28.0,>=0.27.0->fastapi<0.100.0,>=0.95.2->chromadb) (1.3.1)\n"
          ]
        },
        {
          "name": "stdout",
          "output_type": "stream",
          "text": [
            "Requirement already satisfied: mdurl~=0.1 in /opt/conda/lib/python3.10/site-packages (from markdown-it-py>=2.2.0->rich>=10.11.0->typer>=0.9.0->chromadb) (0.1.2)\n",
            "\u001b[33mWARNING: Ignoring invalid distribution -angsmith (/home/student/.local/lib/python3.10/site-packages)\u001b[0m\u001b[33m\n",
            "\u001b[0m\u001b[33mWARNING: Ignoring invalid distribution -angsmith (/home/student/.local/lib/python3.10/site-packages)\u001b[0m\u001b[33m\n",
            "\u001b[0m\u001b[33mWARNING: Ignoring invalid distribution -angsmith (/home/student/.local/lib/python3.10/site-packages)\u001b[0m\u001b[33m\n",
            "\u001b[0m\u001b[33mWARNING: Ignoring invalid distribution -angsmith (/home/student/.local/lib/python3.10/site-packages)\u001b[0m\u001b[33m\n",
            "\u001b[0mDefaulting to user installation because normal site-packages is not writeable\n",
            "\u001b[33mWARNING: Ignoring invalid distribution -angsmith (/home/student/.local/lib/python3.10/site-packages)\u001b[0m\u001b[33m\n",
            "\u001b[0m\u001b[33mWARNING: Ignoring invalid distribution -angsmith (/home/student/.local/lib/python3.10/site-packages)\u001b[0m\u001b[33m\n",
            "\u001b[0mRequirement already satisfied: numpy in /opt/conda/lib/python3.10/site-packages (1.24.3)\n",
            "\u001b[33mWARNING: Ignoring invalid distribution -angsmith (/home/student/.local/lib/python3.10/site-packages)\u001b[0m\u001b[33m\n",
            "\u001b[0m\u001b[33mWARNING: Ignoring invalid distribution -angsmith (/home/student/.local/lib/python3.10/site-packages)\u001b[0m\u001b[33m\n",
            "\u001b[0m\u001b[33mWARNING: Ignoring invalid distribution -angsmith (/home/student/.local/lib/python3.10/site-packages)\u001b[0m\u001b[33m\n",
            "\u001b[0m\u001b[33mWARNING: Ignoring invalid distribution -angsmith (/home/student/.local/lib/python3.10/site-packages)\u001b[0m\u001b[33m\n",
            "\u001b[0mDefaulting to user installation because normal site-packages is not writeable\n",
            "\u001b[33mWARNING: Ignoring invalid distribution -angsmith (/home/student/.local/lib/python3.10/site-packages)\u001b[0m\u001b[33m\n",
            "\u001b[0m\u001b[33mWARNING: Ignoring invalid distribution -angsmith (/home/student/.local/lib/python3.10/site-packages)\u001b[0m\u001b[33m\n",
            "\u001b[0mRequirement already satisfied: pydantic in /opt/conda/lib/python3.10/site-packages (1.10.12)\n",
            "Requirement already satisfied: typing-extensions>=4.2.0 in /opt/conda/lib/python3.10/site-packages (from pydantic) (4.11.0)\n",
            "\u001b[33mWARNING: Ignoring invalid distribution -angsmith (/home/student/.local/lib/python3.10/site-packages)\u001b[0m\u001b[33m\n",
            "\u001b[0m\u001b[33mWARNING: Ignoring invalid distribution -angsmith (/home/student/.local/lib/python3.10/site-packages)\u001b[0m\u001b[33m\n",
            "\u001b[0m\u001b[33mWARNING: Ignoring invalid distribution -angsmith (/home/student/.local/lib/python3.10/site-packages)\u001b[0m\u001b[33m\n",
            "\u001b[0m\u001b[33mWARNING: Ignoring invalid distribution -angsmith (/home/student/.local/lib/python3.10/site-packages)\u001b[0m\u001b[33m\n",
            "\u001b[0mDefaulting to user installation because normal site-packages is not writeable\n",
            "\u001b[33mWARNING: Ignoring invalid distribution -angsmith (/home/student/.local/lib/python3.10/site-packages)\u001b[0m\u001b[33m\n",
            "\u001b[0m\u001b[33mWARNING: Ignoring invalid distribution -angsmith (/home/student/.local/lib/python3.10/site-packages)\u001b[0m\u001b[33m\n",
            "\u001b[0m\u001b[31mERROR: Could not find a version that satisfies the requirement shutil (from versions: none)\u001b[0m\u001b[31m\n",
            "\u001b[0m\u001b[31mERROR: No matching distribution found for shutil\u001b[0m\u001b[31m\n",
            "\u001b[0m\u001b[33mWARNING: Ignoring invalid distribution -angsmith (/home/student/.local/lib/python3.10/site-packages)\u001b[0m\u001b[33m\n",
            "\u001b[0m\u001b[33mWARNING: Ignoring invalid distribution -angsmith (/home/student/.local/lib/python3.10/site-packages)\u001b[0m\u001b[33m\n",
            "\u001b[0m\u001b[33mWARNING: Ignoring invalid distribution -angsmith (/home/student/.local/lib/python3.10/site-packages)\u001b[0m\u001b[33m\n",
            "\u001b[0m"
          ]
        }
      ],
      "source": [
        "!pip install pandas\n",
        "!pip install langchain==0.0.316\n",
        "!pip install openai==0.28.1\n",
        "!pip install chromadb\n",
        "\n",
        "!pip install numpy\n",
        "# !pip install -U langchain-openai\n",
        "!pip install pydantic\n",
        "!pip install shutil\n",
        "\n"
      ]
    },
    {
      "cell_type": "code",
      "execution_count": null,
      "id": "fdca31b4",
      "metadata": {
        "id": "fdca31b4"
      },
      "outputs": [],
      "source": []
    },
    {
      "cell_type": "code",
      "execution_count": null,
      "id": "97564192",
      "metadata": {
        "id": "97564192"
      },
      "outputs": [],
      "source": [
        "import os\n",
        "import pandas as pd\n",
        "import shutil\n",
        "from dataclasses import dataclass\n",
        "\n",
        "from langchain.llms import OpenAI\n",
        "from langchain.embeddings import OpenAIEmbeddings\n",
        "from langchain.evaluation import load_evaluator\n",
        "from langchain.text_splitter import RecursiveCharacterTextSplitter\n",
        "from langchain.schema import Document\n",
        "from langchain.vectorstores.chroma import Chroma\n",
        "from langchain.chat_models import ChatOpenAI\n",
        "from langchain.prompts import ChatPromptTemplate\n",
        "\n",
        "from typing import List\n",
        "from langchain.output_parsers import PydanticOutputParser\n",
        "from langchain_core.pydantic_v1 import BaseModel, Field, NonNegativeInt\n",
        "from langchain.prompts import PromptTemplate\n",
        "from fastapi.encoders import jsonable_encoder"
      ]
    },
    {
      "cell_type": "markdown",
      "id": "a6ea33a6",
      "metadata": {
        "id": "a6ea33a6"
      },
      "source": [
        "# Rubrik1 - Synthetic Data Generation"
      ]
    },
    {
      "cell_type": "markdown",
      "id": "c2c0b9a4",
      "metadata": {
        "id": "c2c0b9a4"
      },
      "source": [
        "Define LLM"
      ]
    },
    {
      "cell_type": "code",
      "execution_count": null,
      "id": "6554fd4c",
      "metadata": {
        "id": "6554fd4c",
        "outputId": "9dbde88e-2ca8-452c-832d-153ee47f29c3"
      },
      "outputs": [
        {
          "name": "stderr",
          "output_type": "stream",
          "text": [
            "/home/student/.local/lib/python3.10/site-packages/langchain/llms/openai.py:216: UserWarning: You are trying to use a chat model. This way of initializing it is no longer supported. Instead, please use: `from langchain.chat_models import ChatOpenAI`\n",
            "  warnings.warn(\n",
            "/home/student/.local/lib/python3.10/site-packages/langchain/llms/openai.py:811: UserWarning: You are trying to use a chat model. This way of initializing it is no longer supported. Instead, please use: `from langchain.chat_models import ChatOpenAI`\n",
            "  warnings.warn(\n"
          ]
        }
      ],
      "source": [
        "\n",
        "\n",
        "os.environ[\"OPENAI_API_KEY\"] = \"voc-xxxxxxxxxxxxxxxxxxxxxxxxxxx\"\n",
        "os.environ[\"OPENAI_API_BASE\"] = \"https://openai.vocareum.com/v1\"\n",
        "\n",
        "model_name = 'gpt-3.5-turbo'\n",
        "llm = OpenAI(model_name=model_name, temperature=0, max_tokens=2500)\n",
        "\n"
      ]
    },
    {
      "cell_type": "markdown",
      "id": "9dc15656",
      "metadata": {
        "id": "9dc15656"
      },
      "source": [
        "Prompt"
      ]
    },
    {
      "cell_type": "code",
      "execution_count": null,
      "id": "60ab1162",
      "metadata": {
        "id": "60ab1162"
      },
      "outputs": [],
      "source": [
        "\n",
        "INSTRUCTION = \"Generate a CSV file with at least 10 real estate listings.\"\n",
        "SAMPLE_LISTING = \\\n",
        "\"\"\"\n",
        "Neighborhood: Streterville\n",
        "Price: $800,000\n",
        "Bedrooms: 3\n",
        "Bathrooms: 2\n",
        "House Size: 3,000 sqft\n",
        "\n",
        "Description: Welcome to this eco-friendly oasis nestled in the heart of Streterville. This charming 3-bedroom, 2-bathroom home boasts energy-efficient features such as solar panels and a well-insulated structure. Natural light floods the living spaces, highlighting the beautiful hardwood floors and eco-conscious finishes. The open-concept kitchen and dining area lead to a spacious backyard with a vegetable garden, perfect for the eco-conscious family. Embrace sustainable living without compromising on style in this Streterville gem.\n",
        "\n",
        "Neighborhood Description: Streterville is a close-knit, environmentally-conscious community with access to organic grocery stores, community gardens, and bike paths. Take a stroll through the nearby Streterville Park or grab a cup of coffee at the cozy Green Bean Cafe. With easy access to public transportation and bike lanes, commuting is a breeze.\n",
        "\"\"\""
      ]
    },
    {
      "cell_type": "code",
      "execution_count": null,
      "id": "9e928e04",
      "metadata": {
        "id": "9e928e04"
      },
      "outputs": [],
      "source": [
        "class RealEstateListing(BaseModel):\n",
        "    \"\"\"\n",
        "    A real estate listing.\n",
        "\n",
        "    Attributes:\n",
        "    - neighborhood: str\n",
        "    - price: NonNegativeInt\n",
        "    - bedrooms: NonNegativeInt\n",
        "    - bathrooms: NonNegativeInt\n",
        "    - house_size: NonNegativeInt\n",
        "    - description: str\n",
        "    - neighborhood_description: str\n",
        "    \"\"\"\n",
        "    neighborhood: str = Field(description=\"The neighborhood where the property is located\")\n",
        "    price: NonNegativeInt = Field(description=\"The price of the property in USD\")\n",
        "    bedrooms: NonNegativeInt = Field(description=\"The number of bedrooms in the property\")\n",
        "    bathrooms: NonNegativeInt = Field(description=\"The number of bathrooms in the property\")\n",
        "    house_size: NonNegativeInt = Field(description=\"The size of the house in square feet\")\n",
        "    description: str = Field(description=\"A description of the property\")\n",
        "    neighborhood_description: str = Field(description=\"A description of the neighborhood.\")\n",
        "\n",
        "class ListingCollection(BaseModel):\n",
        "    \"\"\"\n",
        "    A collection of real estate listings.\n",
        "\n",
        "    Attributes:\n",
        "    - listings: List[RealEstateListing]\n",
        "    \"\"\"\n",
        "    listings: List[RealEstateListing] = Field(description=\"A list of real estate listings\")"
      ]
    },
    {
      "cell_type": "code",
      "execution_count": null,
      "id": "2de89cca",
      "metadata": {
        "id": "2de89cca"
      },
      "outputs": [],
      "source": [
        "# generate parsed output\n",
        "parser = PydanticOutputParser(pydantic_object=ListingCollection)"
      ]
    },
    {
      "cell_type": "code",
      "execution_count": null,
      "id": "7476f859",
      "metadata": {
        "id": "7476f859",
        "outputId": "860359c3-7f47-4488-eb83-211aa4e5bc05"
      },
      "outputs": [
        {
          "name": "stdout",
          "output_type": "stream",
          "text": [
            "<class 'str'>\n"
          ]
        }
      ],
      "source": [
        "# printing the prompt\n",
        "prompt = PromptTemplate(\n",
        "    template=\"{instruction}\\n{sample}\\n{format_instructions}\\n\",\n",
        "    input_variables=[\"instruction\", \"sample\"],\n",
        "    partial_variables={\"format_instructions\": parser.get_format_instructions},\n",
        ")\n",
        "\n",
        "query = prompt.format(\n",
        "    instruction=INSTRUCTION,\n",
        "    sample=SAMPLE_LISTING,\n",
        ")\n",
        "print(type(query))"
      ]
    },
    {
      "cell_type": "markdown",
      "source": [
        "## Rubrik 1.1 : Generating Real Estate Listings with an LLM"
      ],
      "metadata": {
        "id": "ClEIZIJAARUe"
      },
      "id": "ClEIZIJAARUe"
    },
    {
      "cell_type": "code",
      "execution_count": null,
      "id": "bc29368d",
      "metadata": {
        "id": "bc29368d"
      },
      "outputs": [],
      "source": [
        "# get the response\n",
        "response = llm(query)"
      ]
    },
    {
      "cell_type": "code",
      "execution_count": null,
      "id": "08d53e5a",
      "metadata": {
        "id": "08d53e5a",
        "outputId": "81e0fee4-cbaa-4ece-c0ce-37fa8ecfbc5d"
      },
      "outputs": [
        {
          "data": {
            "text/html": [
              "<div>\n",
              "<style scoped>\n",
              "    .dataframe tbody tr th:only-of-type {\n",
              "        vertical-align: middle;\n",
              "    }\n",
              "\n",
              "    .dataframe tbody tr th {\n",
              "        vertical-align: top;\n",
              "    }\n",
              "\n",
              "    .dataframe thead th {\n",
              "        text-align: right;\n",
              "    }\n",
              "</style>\n",
              "<table border=\"1\" class=\"dataframe\">\n",
              "  <thead>\n",
              "    <tr style=\"text-align: right;\">\n",
              "      <th></th>\n",
              "      <th>neighborhood</th>\n",
              "      <th>price</th>\n",
              "      <th>bedrooms</th>\n",
              "      <th>bathrooms</th>\n",
              "      <th>house_size</th>\n",
              "      <th>description</th>\n",
              "      <th>neighborhood_description</th>\n",
              "    </tr>\n",
              "  </thead>\n",
              "  <tbody>\n",
              "    <tr>\n",
              "      <th>0</th>\n",
              "      <td>Streterville</td>\n",
              "      <td>800000</td>\n",
              "      <td>3</td>\n",
              "      <td>2</td>\n",
              "      <td>3000</td>\n",
              "      <td>Welcome to this eco-friendly oasis nestled in ...</td>\n",
              "      <td>Streterville is a close-knit, environmentally-...</td>\n",
              "    </tr>\n",
              "    <tr>\n",
              "      <th>1</th>\n",
              "      <td>Downtown</td>\n",
              "      <td>1200000</td>\n",
              "      <td>4</td>\n",
              "      <td>3</td>\n",
              "      <td>4000</td>\n",
              "      <td>Luxury living in the heart of Downtown. This s...</td>\n",
              "      <td>Downtown is a bustling urban neighborhood with...</td>\n",
              "    </tr>\n",
              "    <tr>\n",
              "      <th>2</th>\n",
              "      <td>Lakeview</td>\n",
              "      <td>650000</td>\n",
              "      <td>2</td>\n",
              "      <td>2</td>\n",
              "      <td>2500</td>\n",
              "      <td>Charming 2-bedroom, 2-bathroom home in the des...</td>\n",
              "      <td>Lakeview is a family-friendly neighborhood wit...</td>\n",
              "    </tr>\n",
              "    <tr>\n",
              "      <th>3</th>\n",
              "      <td>Lincoln Park</td>\n",
              "      <td>950000</td>\n",
              "      <td>3</td>\n",
              "      <td>3</td>\n",
              "      <td>3200</td>\n",
              "      <td>Modern elegance in the heart of Lincoln Park. ...</td>\n",
              "      <td>Lincoln Park is a vibrant neighborhood known f...</td>\n",
              "    </tr>\n",
              "    <tr>\n",
              "      <th>4</th>\n",
              "      <td>West Loop</td>\n",
              "      <td>1100000</td>\n",
              "      <td>3</td>\n",
              "      <td>2</td>\n",
              "      <td>2800</td>\n",
              "      <td>Sleek and stylish 3-bedroom, 2-bathroom loft i...</td>\n",
              "      <td>West Loop is a hip and happening neighborhood ...</td>\n",
              "    </tr>\n",
              "    <tr>\n",
              "      <th>5</th>\n",
              "      <td>Wicker Park</td>\n",
              "      <td>750000</td>\n",
              "      <td>2</td>\n",
              "      <td>1</td>\n",
              "      <td>2000</td>\n",
              "      <td>Cozy 2-bedroom, 1-bathroom cottage in the ecle...</td>\n",
              "      <td>Wicker Park is a vibrant neighborhood known fo...</td>\n",
              "    </tr>\n",
              "    <tr>\n",
              "      <th>6</th>\n",
              "      <td>Gold Coast</td>\n",
              "      <td>1350000</td>\n",
              "      <td>4</td>\n",
              "      <td>4</td>\n",
              "      <td>4500</td>\n",
              "      <td>Luxurious 4-bedroom, 4-bathroom home in the pr...</td>\n",
              "      <td>Gold Coast is a historic and upscale neighborh...</td>\n",
              "    </tr>\n",
              "    <tr>\n",
              "      <th>7</th>\n",
              "      <td>Old Town</td>\n",
              "      <td>850000</td>\n",
              "      <td>3</td>\n",
              "      <td>2</td>\n",
              "      <td>2700</td>\n",
              "      <td>Classic 3-bedroom, 2-bathroom home in the char...</td>\n",
              "      <td>Old Town is a quaint and picturesque neighborh...</td>\n",
              "    </tr>\n",
              "    <tr>\n",
              "      <th>8</th>\n",
              "      <td>South Loop</td>\n",
              "      <td>700000</td>\n",
              "      <td>2</td>\n",
              "      <td>2</td>\n",
              "      <td>2200</td>\n",
              "      <td>Modern 2-bedroom, 2-bathroom condo in the vibr...</td>\n",
              "      <td>South Loop is a dynamic neighborhood with a mi...</td>\n",
              "    </tr>\n",
              "    <tr>\n",
              "      <th>9</th>\n",
              "      <td>River North</td>\n",
              "      <td>1000000</td>\n",
              "      <td>3</td>\n",
              "      <td>3</td>\n",
              "      <td>3000</td>\n",
              "      <td>Contemporary 3-bedroom, 3-bathroom penthouse i...</td>\n",
              "      <td>River North is a vibrant neighborhood known fo...</td>\n",
              "    </tr>\n",
              "  </tbody>\n",
              "</table>\n",
              "</div>"
            ],
            "text/plain": [
              "   neighborhood    price  bedrooms  bathrooms  house_size  \\\n",
              "0  Streterville   800000         3          2        3000   \n",
              "1      Downtown  1200000         4          3        4000   \n",
              "2      Lakeview   650000         2          2        2500   \n",
              "3  Lincoln Park   950000         3          3        3200   \n",
              "4     West Loop  1100000         3          2        2800   \n",
              "5   Wicker Park   750000         2          1        2000   \n",
              "6    Gold Coast  1350000         4          4        4500   \n",
              "7      Old Town   850000         3          2        2700   \n",
              "8    South Loop   700000         2          2        2200   \n",
              "9   River North  1000000         3          3        3000   \n",
              "\n",
              "                                         description  \\\n",
              "0  Welcome to this eco-friendly oasis nestled in ...   \n",
              "1  Luxury living in the heart of Downtown. This s...   \n",
              "2  Charming 2-bedroom, 2-bathroom home in the des...   \n",
              "3  Modern elegance in the heart of Lincoln Park. ...   \n",
              "4  Sleek and stylish 3-bedroom, 2-bathroom loft i...   \n",
              "5  Cozy 2-bedroom, 1-bathroom cottage in the ecle...   \n",
              "6  Luxurious 4-bedroom, 4-bathroom home in the pr...   \n",
              "7  Classic 3-bedroom, 2-bathroom home in the char...   \n",
              "8  Modern 2-bedroom, 2-bathroom condo in the vibr...   \n",
              "9  Contemporary 3-bedroom, 3-bathroom penthouse i...   \n",
              "\n",
              "                            neighborhood_description  \n",
              "0  Streterville is a close-knit, environmentally-...  \n",
              "1  Downtown is a bustling urban neighborhood with...  \n",
              "2  Lakeview is a family-friendly neighborhood wit...  \n",
              "3  Lincoln Park is a vibrant neighborhood known f...  \n",
              "4  West Loop is a hip and happening neighborhood ...  \n",
              "5  Wicker Park is a vibrant neighborhood known fo...  \n",
              "6  Gold Coast is a historic and upscale neighborh...  \n",
              "7  Old Town is a quaint and picturesque neighborh...  \n",
              "8  South Loop is a dynamic neighborhood with a mi...  \n",
              "9  River North is a vibrant neighborhood known fo...  "
            ]
          },
          "execution_count": 18,
          "metadata": {},
          "output_type": "execute_result"
        }
      ],
      "source": [
        "# create a dataframe from the response\n",
        "result = parser.parse(response)\n",
        "df = pd.DataFrame(jsonable_encoder(result.listings))\n",
        "df.head(10)"
      ]
    },
    {
      "cell_type": "code",
      "execution_count": null,
      "id": "607b6e0e",
      "metadata": {
        "id": "607b6e0e"
      },
      "outputs": [],
      "source": [
        "# save the dataframe to a csv file\n",
        "df.to_csv('real_estate_listings.csv', index_label = 'id')"
      ]
    },
    {
      "cell_type": "markdown",
      "source": [
        "# Rubrik 2: Semantic Search"
      ],
      "metadata": {
        "id": "r6cCrKTkAi38"
      },
      "id": "r6cCrKTkAi38"
    },
    {
      "cell_type": "markdown",
      "id": "8f1cc9de",
      "metadata": {
        "id": "8f1cc9de"
      },
      "source": [
        "##  Rubrik 2.1. : Creating a Vector Database and Storing Listings"
      ]
    },
    {
      "cell_type": "code",
      "execution_count": null,
      "id": "b8dac04f",
      "metadata": {
        "id": "b8dac04f"
      },
      "outputs": [],
      "source": [
        "CHROMA_PATH = \"\"\"croma/\"\"\"\n",
        "CSV_PATH = \"real_estate_listings.csv\"\n",
        "embedding_function = OpenAIEmbeddings()"
      ]
    },
    {
      "cell_type": "code",
      "execution_count": null,
      "id": "aa5f0f5a",
      "metadata": {
        "id": "aa5f0f5a",
        "outputId": "a3405dd5-1132-4170-9f7d-00df74a9d621"
      },
      "outputs": [
        {
          "name": "stdout",
          "output_type": "stream",
          "text": [
            "Split 10 documents into 21 chunks.\n"
          ]
        }
      ],
      "source": [
        "## create embeddings for each row\n",
        "\n",
        "df = pd.read_csv(CSV_PATH)\n",
        "documents = []\n",
        "\n",
        "df = pd.read_csv(CSV_PATH)\n",
        "documents = []\n",
        "for index, row in df.iterrows():\n",
        "    documents.append(Document(page_content=row['description'], metadata={'id': str(index)}))\n",
        "\n",
        "\n",
        "# Split Text for each document into smaller chunks\n",
        "text_splitter = RecursiveCharacterTextSplitter(\n",
        "    chunk_size=300,\n",
        "    chunk_overlap=100,\n",
        "    length_function=len,\n",
        "    add_start_index=True,\n",
        ")\n",
        "chunks = text_splitter.split_documents(documents)\n",
        "print(f\"Split {len(documents)} documents into {len(chunks)} chunks.\")"
      ]
    },
    {
      "cell_type": "code",
      "execution_count": null,
      "id": "5c57a822",
      "metadata": {
        "id": "5c57a822",
        "outputId": "c79e1287-7db9-43dd-8dc8-89dbc49b6f40"
      },
      "outputs": [
        {
          "name": "stdout",
          "output_type": "stream",
          "text": [
            "space is perfect for entertaining, while the private rooftop deck offers stunning city views. Enjoy the convenience of being close to top restaurants, shops, and entertainment venues.\n",
            "{'id': '4', 'start_index': 199}\n",
            "Saved 21 chunks to croma/.\n"
          ]
        }
      ],
      "source": [
        "if chunks:\n",
        "    document = chunks[10]\n",
        "    print(document.page_content)\n",
        "    print(document.metadata)\n",
        "\n",
        "# Save to Chroma\n",
        "if os.path.exists(CHROMA_PATH):\n",
        "    shutil.rmtree(CHROMA_PATH)\n",
        "\n",
        "db = Chroma.from_documents(\n",
        "    chunks, OpenAIEmbeddings(), persist_directory=CHROMA_PATH\n",
        ")\n",
        "db.persist()\n",
        "print(f\"Saved {len(chunks)} chunks to {CHROMA_PATH}.\")"
      ]
    },
    {
      "cell_type": "markdown",
      "id": "ca542684",
      "metadata": {
        "id": "ca542684"
      },
      "source": [
        "## Rubrik 2.2 : Semantic Search of Listings Based on Buyer Preferences"
      ]
    },
    {
      "cell_type": "markdown",
      "source": [
        "varibla formatted_response contains retrieved context"
      ],
      "metadata": {
        "id": "NP1kXW3rBWhD"
      },
      "id": "NP1kXW3rBWhD"
    },
    {
      "cell_type": "code",
      "source": [],
      "metadata": {
        "id": "p-Ti4piABVxg"
      },
      "id": "p-Ti4piABVxg",
      "execution_count": null,
      "outputs": []
    },
    {
      "cell_type": "code",
      "execution_count": null,
      "id": "47464a3b",
      "metadata": {
        "id": "47464a3b"
      },
      "outputs": [],
      "source": [
        "query_text = \"A comfortable three-bedroom house with a spacious kitchen and a cozy living room along with easy access to Dowtown and have lake view\"\n",
        "\n",
        "BASIC_PROMPT_TEMPLATE =\\\n",
        "\"\"\"\n",
        "Based on the following context:\n",
        "\n",
        "{context}\n",
        "\n",
        "---\n",
        "\n",
        "Answer the question : {question}\n",
        "\"\"\"\n"
      ]
    },
    {
      "cell_type": "code",
      "execution_count": null,
      "id": "184ef731",
      "metadata": {
        "id": "184ef731"
      },
      "outputs": [],
      "source": [
        "def predict_response(query_text, PROMPT_TEMPLATE):\n",
        "    embedding_function = OpenAIEmbeddings()\n",
        "    db = Chroma(persist_directory=CHROMA_PATH, embedding_function=embedding_function)\n",
        "\n",
        "    # Search the DB.\n",
        "    results = db.similarity_search_with_relevance_scores(query_text, k=3)\n",
        "    if len(results) == 0 or results[0][1] < 0.7:\n",
        "        print(f\"Unable to find matching results.\")\n",
        "    else:\n",
        "        context_text = \"\\n\\n---\\n\\n\".join([doc.page_content for doc, _score in results])\n",
        "        prompt_template = ChatPromptTemplate.from_template(PROMPT_TEMPLATE)\n",
        "        prompt = prompt_template.format(context=context_text, question=query_text)\n",
        "        print(f\"Generated Prompt:\\n{prompt}\")\n",
        "\n",
        "        model = ChatOpenAI()\n",
        "        response_text = model.predict(prompt)\n",
        "        sources = [doc.metadata.get(\"id\", None) for doc, _score in results]\n",
        "        formatted_response = f\"Response: {response_text}\\nSources: {sources}\"\n",
        "        print(formatted_response)"
      ]
    },
    {
      "cell_type": "code",
      "execution_count": null,
      "id": "b0f7e4db",
      "metadata": {
        "id": "b0f7e4db",
        "outputId": "134170fd-232c-47bc-b23f-6edb235cadfb"
      },
      "outputs": [
        {
          "name": "stdout",
          "output_type": "stream",
          "text": [
            "Generated Prompt:\n",
            "Human: \n",
            "Based on the following context:\n",
            "\n",
            "Charming 2-bedroom, 2-bathroom home in the desirable Lakeview neighborhood. This cozy bungalow features a renovated kitchen, hardwood floors, and a fenced backyard. The spacious living room is perfect for entertaining guests or relaxing with family. Enjoy the convenience of being close to parks,\n",
            "\n",
            "---\n",
            "\n",
            "Luxury living in the heart of Downtown. This spacious 4-bedroom, 3-bathroom home features high-end finishes, a gourmet kitchen, and stunning city views. The master suite includes a walk-in closet and spa-like bathroom. Enjoy the convenience of being walking distance to top restaurants, shops, and\n",
            "\n",
            "---\n",
            "\n",
            "Classic 3-bedroom, 2-bathroom home in the charming Old Town neighborhood. This historic row house features original architectural details, hardwood floors, and a private patio. The cozy living room is perfect for relaxing by the fireplace or hosting intimate gatherings. Enjoy the convenience of\n",
            "\n",
            "---\n",
            "\n",
            "Answer the question : A comfortable three-bedroom house with a spacious kitchen and a cozy living room along with easy access to Dowtown and have lake view\n",
            "\n",
            "Response: The third option, the classic 3-bedroom, 2-bathroom home in the charming Old Town neighborhood, would be the best fit for someone looking for a comfortable three-bedroom house with a spacious kitchen and a cozy living room. This historic row house features original architectural details, hardwood floors, and a private patio. It is located in a charming neighborhood with easy access to Downtown and close to the lakeview.\n",
            "Sources: ['2', '1', '7']\n"
          ]
        }
      ],
      "source": [
        "predict_response(query_text, BASIC_PROMPT_TEMPLATE)"
      ]
    },
    {
      "cell_type": "markdown",
      "id": "faced961",
      "metadata": {
        "id": "faced961"
      },
      "source": [
        "# Rubrik 3: Augmented Response Generation"
      ]
    },
    {
      "cell_type": "markdown",
      "source": [
        "## Rubrik 3.1 and 3.2: Logic for Searching and Augmenting Listing Descriptions"
      ],
      "metadata": {
        "id": "AkyTc326Bgt0"
      },
      "id": "AkyTc326Bgt0"
    },
    {
      "cell_type": "markdown",
      "source": [
        "function - predict_response , contains logic for searching and listing augmentation via prompt below"
      ],
      "metadata": {
        "id": "IafkjMAzBm6M"
      },
      "id": "IafkjMAzBm6M"
    },
    {
      "cell_type": "code",
      "execution_count": null,
      "id": "a302715d",
      "metadata": {
        "id": "a302715d"
      },
      "outputs": [],
      "source": [
        "AUGMENT_PROMPT_TEMPLATE =\\\n",
        "\"\"\"\n",
        "Based on the following context:\n",
        "\n",
        "{context}\n",
        "\n",
        "---\n",
        "\n",
        "craft a response that not only answers the question : {question}, but also ensures that your explanation is distinct, captivating, and customized to align with the specified preferences. This involves subtly emphasizing aspects of the property that align with what the buyer is looking for.\n",
        "\"\"\""
      ]
    },
    {
      "cell_type": "code",
      "execution_count": null,
      "id": "11e5b24d",
      "metadata": {
        "id": "11e5b24d",
        "outputId": "d9414702-a357-4d45-8021-c802bf800f2d"
      },
      "outputs": [
        {
          "name": "stdout",
          "output_type": "stream",
          "text": [
            "Generated Prompt:\n",
            "Human: \n",
            "Based on the following context:\n",
            "\n",
            "Charming 2-bedroom, 2-bathroom home in the desirable Lakeview neighborhood. This cozy bungalow features a renovated kitchen, hardwood floors, and a fenced backyard. The spacious living room is perfect for entertaining guests or relaxing with family. Enjoy the convenience of being close to parks,\n",
            "\n",
            "---\n",
            "\n",
            "Luxury living in the heart of Downtown. This spacious 4-bedroom, 3-bathroom home features high-end finishes, a gourmet kitchen, and stunning city views. The master suite includes a walk-in closet and spa-like bathroom. Enjoy the convenience of being walking distance to top restaurants, shops, and\n",
            "\n",
            "---\n",
            "\n",
            "Classic 3-bedroom, 2-bathroom home in the charming Old Town neighborhood. This historic row house features original architectural details, hardwood floors, and a private patio. The cozy living room is perfect for relaxing by the fireplace or hosting intimate gatherings. Enjoy the convenience of\n",
            "\n",
            "---\n",
            "\n",
            "craft a response that not only answers the question : A comfortable three-bedroom house with a spacious kitchen and a cozy living room along with easy access to Dowtown and have lake view, but also ensures that your explanation is distinct, captivating, and customized to align with the specified preferences. This involves subtly emphasizing aspects of the property that align with what the buyer is looking for.\n",
            "\n",
            "Response: Introducing the perfect blend of comfort, convenience, and charm in this lovely three-bedroom home located in the desirable Lakeview neighborhood. Step inside to discover a spacious kitchen, ideal for whipping up delicious meals, and a cozy living room, perfect for unwinding after a long day. With easy access to Downtown, you can enjoy the bustling city life while still indulging in serene lake views from the comfort of your own backyard. This property truly offers the best of both worlds, allowing you to experience luxury living with a touch of tranquility. Don't miss out on this unique opportunity to make this house your dream home!\n",
            "Sources: ['2', '1', '7']\n"
          ]
        }
      ],
      "source": [
        "predict_response(query_text, AUGMENT_PROMPT_TEMPLATE)"
      ]
    },
    {
      "cell_type": "code",
      "execution_count": null,
      "id": "114f23ee",
      "metadata": {
        "id": "114f23ee"
      },
      "outputs": [],
      "source": []
    }
  ],
  "metadata": {
    "kernelspec": {
      "display_name": "Python 3 (ipykernel)",
      "language": "python",
      "name": "python3"
    },
    "language_info": {
      "codemirror_mode": {
        "name": "ipython",
        "version": 3
      },
      "file_extension": ".py",
      "mimetype": "text/x-python",
      "name": "python",
      "nbconvert_exporter": "python",
      "pygments_lexer": "ipython3",
      "version": "3.10.11"
    },
    "colab": {
      "provenance": [],
      "include_colab_link": true
    }
  },
  "nbformat": 4,
  "nbformat_minor": 5
}